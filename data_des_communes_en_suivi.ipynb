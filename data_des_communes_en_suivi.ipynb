{
 "cells": [
  {
   "cell_type": "markdown",
   "id": "a97d5727-45d5-47f4-b94b-e82f6ffee5e9",
   "metadata": {},
   "source": [
    "# Data des communes présentes au comité de suivi"
   ]
  },
  {
   "cell_type": "code",
   "execution_count": 83,
   "id": "690c9c85-921d-47a5-a001-cb61725ef0d5",
   "metadata": {},
   "outputs": [],
   "source": [
    "import pandas as pd\n",
    "from bs4 import BeautifulSoup"
   ]
  },
  {
   "cell_type": "code",
   "execution_count": 9,
   "id": "ddd6337d-7033-459c-b761-2ddb3c275aee",
   "metadata": {},
   "outputs": [],
   "source": [
    "cities = [\n",
    "    \"Dardilly\",\n",
    "    \"Lyon\",\n",
    "    \"Villeurbanne\",\n",
    "    \"Saint-Genis-Laval\",\n",
    "    \"Caluire-et-Cuire\",\n",
    "    \"Vaulx-en-Velin\",\n",
    "    \"Ecully\",\n",
    "    \"Rillieux-la-Pape\",\n",
    "    \"Saint-Didier-au-Mont-D'or\",\n",
    "]"
   ]
  },
  {
   "cell_type": "code",
   "execution_count": 10,
   "id": "7af8806a-74e1-42d8-8c5a-6ddd3158edac",
   "metadata": {},
   "outputs": [],
   "source": [
    "cities.sort()"
   ]
  },
  {
   "cell_type": "code",
   "execution_count": 11,
   "id": "aeef0cd5-d172-43ba-a9e8-b1bd0954d052",
   "metadata": {},
   "outputs": [
    {
     "data": {
      "text/plain": [
       "['Caluire-et-Cuire',\n",
       " 'Dardilly',\n",
       " 'Ecully',\n",
       " 'Lyon',\n",
       " 'Rillieux-la-Pape',\n",
       " \"Saint-Didier-au-Mont-D'or\",\n",
       " 'Saint-Genis-Laval',\n",
       " 'Vaulx-en-Velin',\n",
       " 'Villeurbanne']"
      ]
     },
     "execution_count": 11,
     "metadata": {},
     "output_type": "execute_result"
    }
   ],
   "source": [
    "cities"
   ]
  },
  {
   "cell_type": "code",
   "execution_count": 12,
   "id": "d9c02baa-13e3-420b-8ef3-3a339ccc5760",
   "metadata": {},
   "outputs": [
    {
     "name": "stdout",
     "output_type": "stream",
     "text": [
      "Caluire-et-Cuire, Dardilly, Ecully, Lyon, Rillieux-la-Pape, Saint-Didier-au-Mont-D'or, Saint-Genis-Laval, Vaulx-en-Velin, Villeurbanne, "
     ]
    }
   ],
   "source": [
    "for city in cities:\n",
    "    print(city, end= \", \")"
   ]
  },
  {
   "cell_type": "code",
   "execution_count": 41,
   "id": "e7ff04c0-f4a2-4b15-a773-d609914ae4fd",
   "metadata": {},
   "outputs": [],
   "source": [
    "caluire = [\n",
    "    {'nom': \"Toilettes publiques de la commune de Caluire-et-Cuire  -  v1\" ,\n",
    "    'url': \"https://data.grandlyon.com/jeux-de-donnees/toilettes-publiques-commune-caluire-cuire-v1/info\",},\n",
    "    {\n",
    "        'nom': \"Marchés publics de Caluire-et-Cuire\",\n",
    "        'url': \"https://data.grandlyon.com/jeux-de-donnees/marches-publics-caluire-cuire/info\",\n",
    "    },\n",
    "        {\n",
    "        'nom': \"Stationnement réglementé pour les Personnes à Mobilité Réduite dans la commune de Caluire-et-Cuire - v1\",\n",
    "        'url': \"https://data.grandlyon.com/jeux-de-donnees/stationnement-reglemente-personnes-a-mobilite-reduite-commune-caluire-cuire-v1/info\",\n",
    "    },\n",
    "    {\n",
    "        'nom': \"Bureaux de vote de la commune de Caluire-et-Cuire - v1\",\n",
    "        'url': \"https://data.grandlyon.com/jeux-de-donnees/bureaux-vote-commune-caluire-cuire-v1/info\",\n",
    "    },\n",
    "    \n",
    "]"
   ]
  },
  {
   "cell_type": "code",
   "execution_count": 42,
   "id": "f92fef14-1c78-47e6-8ac9-2bb890f82908",
   "metadata": {},
   "outputs": [
    {
     "data": {
      "text/plain": [
       "({'nom': '', 'url': ''},)"
      ]
     },
     "execution_count": 42,
     "metadata": {},
     "output_type": "execute_result"
    }
   ],
   "source": [
    "    {\n",
    "        'nom': \"\",\n",
    "        'url': \"\",\n",
    "    },"
   ]
  },
  {
   "cell_type": "code",
   "execution_count": 46,
   "id": "eb07826a-a397-42d4-b41c-dcbeefc6034f",
   "metadata": {},
   "outputs": [],
   "source": [
    "caluire = pd.DataFrame(caluire)"
   ]
  },
  {
   "cell_type": "code",
   "execution_count": 47,
   "id": "85ab9b80-aba2-4949-891b-e16972eb1f50",
   "metadata": {},
   "outputs": [],
   "source": [
    "caluire['commune'] = ['Caluire-et-Cuire'] * 4"
   ]
  },
  {
   "cell_type": "code",
   "execution_count": 48,
   "id": "c4cc6a63-c41f-420e-8316-5984ff1c7e18",
   "metadata": {},
   "outputs": [
    {
     "data": {
      "text/html": [
       "<div>\n",
       "<style scoped>\n",
       "    .dataframe tbody tr th:only-of-type {\n",
       "        vertical-align: middle;\n",
       "    }\n",
       "\n",
       "    .dataframe tbody tr th {\n",
       "        vertical-align: top;\n",
       "    }\n",
       "\n",
       "    .dataframe thead th {\n",
       "        text-align: right;\n",
       "    }\n",
       "</style>\n",
       "<table border=\"1\" class=\"dataframe\">\n",
       "  <thead>\n",
       "    <tr style=\"text-align: right;\">\n",
       "      <th></th>\n",
       "      <th>nom</th>\n",
       "      <th>url</th>\n",
       "      <th>commune</th>\n",
       "    </tr>\n",
       "  </thead>\n",
       "  <tbody>\n",
       "    <tr>\n",
       "      <th>0</th>\n",
       "      <td>Toilettes publiques de la commune de Caluire-e...</td>\n",
       "      <td>https://data.grandlyon.com/jeux-de-donnees/toi...</td>\n",
       "      <td>Caluire-et-Cuire</td>\n",
       "    </tr>\n",
       "    <tr>\n",
       "      <th>1</th>\n",
       "      <td>Marchés publics de Caluire-et-Cuire</td>\n",
       "      <td>https://data.grandlyon.com/jeux-de-donnees/mar...</td>\n",
       "      <td>Caluire-et-Cuire</td>\n",
       "    </tr>\n",
       "    <tr>\n",
       "      <th>2</th>\n",
       "      <td>Stationnement réglementé pour les Personnes à ...</td>\n",
       "      <td>https://data.grandlyon.com/jeux-de-donnees/sta...</td>\n",
       "      <td>Caluire-et-Cuire</td>\n",
       "    </tr>\n",
       "    <tr>\n",
       "      <th>3</th>\n",
       "      <td>Bureaux de vote de la commune de Caluire-et-Cu...</td>\n",
       "      <td>https://data.grandlyon.com/jeux-de-donnees/bur...</td>\n",
       "      <td>Caluire-et-Cuire</td>\n",
       "    </tr>\n",
       "  </tbody>\n",
       "</table>\n",
       "</div>"
      ],
      "text/plain": [
       "                                                 nom  \\\n",
       "0  Toilettes publiques de la commune de Caluire-e...   \n",
       "1                Marchés publics de Caluire-et-Cuire   \n",
       "2  Stationnement réglementé pour les Personnes à ...   \n",
       "3  Bureaux de vote de la commune de Caluire-et-Cu...   \n",
       "\n",
       "                                                 url           commune  \n",
       "0  https://data.grandlyon.com/jeux-de-donnees/toi...  Caluire-et-Cuire  \n",
       "1  https://data.grandlyon.com/jeux-de-donnees/mar...  Caluire-et-Cuire  \n",
       "2  https://data.grandlyon.com/jeux-de-donnees/sta...  Caluire-et-Cuire  \n",
       "3  https://data.grandlyon.com/jeux-de-donnees/bur...  Caluire-et-Cuire  "
      ]
     },
     "execution_count": 48,
     "metadata": {},
     "output_type": "execute_result"
    }
   ],
   "source": [
    "caluire"
   ]
  },
  {
   "cell_type": "code",
   "execution_count": 49,
   "id": "ebe1094e-1333-4b75-904c-40e08b45285c",
   "metadata": {},
   "outputs": [],
   "source": [
    "dardilly = [\n",
    "     {\n",
    "        'nom': \"Marchés publics de Dardilly\",\n",
    "        'url': \"https://data.grandlyon.com/jeux-de-donnees/marches-publics-dardilly/info\",\n",
    "    },\n",
    "    {\n",
    "        'nom': \"Bureaux de vote de la commune de Dardilly\",\n",
    "        'url': \"https://data.grandlyon.com/jeux-de-donnees/bureaux-vote-commune-dardilly-v1/info\",\n",
    "    },\n",
    "    {\n",
    "        'nom': \"Panneaux d'affichage libre de la commune de Dardilly\",\n",
    "        'url': \"https://data.grandlyon.com/jeux-de-donnees/panneaux-affichage-libre-commune-dardilly-v1/info\",\n",
    "    },\n",
    "]"
   ]
  },
  {
   "cell_type": "code",
   "execution_count": 50,
   "id": "645f3a60-f6ce-459e-b482-a368e81c7cb8",
   "metadata": {},
   "outputs": [],
   "source": [
    "dardilly = pd.DataFrame(dardilly)"
   ]
  },
  {
   "cell_type": "code",
   "execution_count": 52,
   "id": "786ef180-8f83-478a-b762-c8428ff94d07",
   "metadata": {},
   "outputs": [],
   "source": [
    "dardilly['commune'] = ['Dardilly'] * len(dardilly)"
   ]
  },
  {
   "cell_type": "code",
   "execution_count": 55,
   "id": "8207ad4e-71b3-4db4-b802-a1e3e40229ef",
   "metadata": {},
   "outputs": [],
   "source": [
    "ecully = pd.DataFrame([{'nom': 'Bureaux de vote de la commune d’Écully', 'url':'https://data.grandlyon.com/jeux-de-donnees/bureaux-vote-commune-ecully-v1/info', 'commune': 'Écully'}])"
   ]
  },
  {
   "cell_type": "code",
   "execution_count": null,
   "id": "f4bf582e-9930-44fa-a896-d94448d98141",
   "metadata": {},
   "outputs": [],
   "source": []
  },
  {
   "cell_type": "code",
   "execution_count": 106,
   "id": "2dd2504d-8145-443c-8c2c-80936240b0c4",
   "metadata": {},
   "outputs": [],
   "source": [
    "soup1 = BeautifulSoup(\"\"\"<div _ngcontent-atg-c8=\"\" class=\"column is-9-desktop is-12-touch results-column\" https:=\"\" data.grandlyon.com=\"\"><h1 _ngcontent-atg-c8=\"\" class=\"sr-only\">Résultat(s) de recherche</h1><div _ngcontent-atg-c8=\"\" class=\"tab-results\"><app-results-tab-scope _ngcontent-atg-c8=\"\" _nghost-atg-c11=\"\"><div _ngcontent-atg-c11=\"\" class=\"tabs-container\"><button _ngcontent-atg-c11=\"\" class=\"is-selected\" aria-current=\"page\"><span _ngcontent-atg-c11=\"\" class=\"tab-label\">Tous</span><span _ngcontent-atg-c11=\"\" class=\"tab-count\">17</span></button><button _ngcontent-atg-c11=\"\"><span _ngcontent-atg-c11=\"\" class=\"tab-label\">Données</span><span _ngcontent-atg-c11=\"\" class=\"tab-count\">17</span></button><button _ngcontent-atg-c11=\"\"><span _ngcontent-atg-c11=\"\" class=\"tab-label\">Services</span><span _ngcontent-atg-c11=\"\" class=\"tab-count\">0</span></button></div></app-results-tab-scope></div><!----><div _ngcontent-atg-c8=\"\" class=\"columns is-multiline is-vcentered is-marginless header-results\"><!----><div _ngcontent-atg-c8=\"\" class=\"column is-6-mobile\"><span _ngcontent-atg-c8=\"\">1 - 5&nbsp;</span><span _ngcontent-atg-c8=\"\"> sur 17 résultats</span></div><div _ngcontent-atg-c8=\"\" class=\"column is-12-mobile pagination\"><!----><app-paginator _ngcontent-atg-c8=\"\" _nghost-atg-c12=\"\"><div _ngcontent-atg-c12=\"\" class=\"columns\"><div _ngcontent-atg-c12=\"\" class=\"column\"><!----><div _ngcontent-atg-c12=\"\" aria-label=\"pagination\" class=\"pagination-dgl is-centered is-small\" role=\"navigation\"><!----><button _ngcontent-atg-c12=\"\" aria-label=\"Page précédente\" class=\"button previous\" disabled=\"\"><svg _ngcontent-atg-c12=\"\" viewBox=\"0 0 15 9\" xmlns=\"http://www.w3.org/2000/svg\"><path _ngcontent-atg-c12=\"\" class=\"brandcolor\" d=\"M7.5 7.5c-.1 0-.3-.1-.4-.1l-6-6C1 1.1 1 .8 1.1.6s.5-.2.7 0l5.6 5.6L13 .6c.2-.2.5-.2.7 0s.2.5 0 .7l-6 6c.1.1-.1.2-.2.2z\"></path><path _ngcontent-atg-c12=\"\" class=\"brandcolor\" d=\"M7.5 7.5c-.1 0-.3-.1-.4-.1l-6-6C1 1.1 1 .8 1.1.6s.5-.2.7 0l5.6 5.6L13 .6c.2-.2.5-.2.7 0s.2.5 0 .7l-6 6c.1.1-.1.2-.2.2z\"></path></svg></button><!----><ul _ngcontent-atg-c12=\"\"><!----><!----><li _ngcontent-atg-c12=\"\"><!----><a _ngcontent-atg-c12=\"\" class=\"button is-current\" aria-label=\"1\" href=\"/jeux-de-donnees?page=1\" aria-current=\"page\">1</a><!----></li><!----><li _ngcontent-atg-c12=\"\"><!----><a _ngcontent-atg-c12=\"\" class=\"button\" aria-label=\"2\" href=\"/jeux-de-donnees?page=2\">2</a><!----></li><!----><li _ngcontent-atg-c12=\"\"><!----><a _ngcontent-atg-c12=\"\" class=\"button\" aria-label=\"3\" href=\"/jeux-de-donnees?page=3\">3</a><!----></li><!----><li _ngcontent-atg-c12=\"\"><!----><a _ngcontent-atg-c12=\"\" class=\"button\" aria-label=\"4\" href=\"/jeux-de-donnees?page=4\">4</a><!----></li></ul><!----><button _ngcontent-atg-c12=\"\" aria-label=\"Page suivante\" class=\"button next\"><svg _ngcontent-atg-c12=\"\" viewBox=\"0 0 15 9\" xmlns=\"http://www.w3.org/2000/svg\"><path _ngcontent-atg-c12=\"\" class=\"brandcolor\" d=\"M7.5 7.5c-.1 0-.3-.1-.4-.1l-6-6C1 1.1 1 .8 1.1.6s.5-.2.7 0l5.6 5.6L13 .6c.2-.2.5-.2.7 0s.2.5 0 .7l-6 6c.1.1-.1.2-.2.2z\"></path><path _ngcontent-atg-c12=\"\" class=\"brandcolor\" d=\"M7.5 7.5c-.1 0-.3-.1-.4-.1l-6-6C1 1.1 1 .8 1.1.6s.5-.2.7 0l5.6 5.6L13 .6c.2-.2.5-.2.7 0s.2.5 0 .7l-6 6c.1.1-.1.2-.2.2z\"></path></svg></button><!----></div></div></div></app-paginator></div><div _ngcontent-atg-c8=\"\" class=\"column is-6-mobile sort-dropdown\"><app-sort _ngcontent-atg-c8=\"\" _nghost-atg-c13=\"\"><div _ngcontent-atg-c13=\"\" class=\"dropdown is-fullwidth\"><div _ngcontent-atg-c13=\"\" class=\"dropdown-trigger\"><button _ngcontent-atg-c13=\"\" aria-controls=\"dropdown-menu\" aria-haspopup=\"true\" class=\"button\"><span _ngcontent-atg-c13=\"\" class=\"title-dropdown\"><span _ngcontent-atg-c13=\"\">Classer par</span><span _ngcontent-atg-c13=\"\" class=\"selected-option\">Date (décroissante)</span></span><span _ngcontent-atg-c13=\"\" class=\"icon is-small\"><svg _ngcontent-atg-c13=\"\" viewBox=\"0 0 15 9\" xmlns=\"http://www.w3.org/2000/svg\"><path _ngcontent-atg-c13=\"\" class=\"brandcolor\" d=\"M7.5 7.5c-.1 0-.3-.1-.4-.1l-6-6C1 1.1 1 .8 1.1.6s.5-.2.7 0l5.6 5.6L13 .6c.2-.2.5-.2.7 0s.2.5 0 .7l-6 6c.1.1-.1.2-.2.2z\"></path><path _ngcontent-atg-c13=\"\" class=\"brandcolor\" d=\"M7.5 7.5c-.1 0-.3-.1-.4-.1l-6-6C1 1.1 1 .8 1.1.6s.5-.2.7 0l5.6 5.6L13 .6c.2-.2.5-.2.7 0s.2.5 0 .7l-6 6c.1.1-.1.2-.2.2z\"></path></svg></span></button></div><div _ngcontent-atg-c13=\"\" class=\"dropdown-menu\" id=\"dropdown-menu\" role=\"menu\"><div _ngcontent-atg-c13=\"\" class=\"dropdown-content\"><!----><a _ngcontent-atg-c13=\"\" class=\"dropdown-item\">Pertinence</a><a _ngcontent-atg-c13=\"\" class=\"dropdown-item\">Date (croissante)</a><a _ngcontent-atg-c13=\"\" class=\"dropdown-item\">Date (décroissante)</a><a _ngcontent-atg-c13=\"\" class=\"dropdown-item\">Titre (A → Z)</a><a _ngcontent-atg-c13=\"\" class=\"dropdown-item\">Titre (Z → A)</a></div></div></div></app-sort></div></div><!----><!----><div _ngcontent-atg-c8=\"\" class=\"datasets\"><!----><!----><!----><div _ngcontent-atg-c8=\"\" class=\"result-dataset\"><app-result-dataset _ngcontent-atg-c8=\"\" _nghost-atg-c14=\"\"><!----><!----><div _ngcontent-atg-c14=\"\" class=\"columns is-marginless\"><div _ngcontent-atg-c14=\"\" class=\"column is-1 is-paddingless image-item is-hidden-mobile\"><!----><img _ngcontent-atg-c14=\"\" alt=\"No Image Dataset\" src=\"./assets/img/vignette-data.png\"><!----></div><div _ngcontent-atg-c14=\"\" class=\"column is-8 title-item\"><!----><a _ngcontent-atg-c14=\"\" class=\"link-without-decoration\" href=\"/jeux-de-donnees/subventions-ville-lyon/info\"><span _ngcontent-atg-c14=\"\" class=\"h3\">Subventions de la Ville de Lyon</span><!----></a><p _ngcontent-atg-c14=\"\" class=\"providers\">Ville de Lyon</p></div></div><div _ngcontent-atg-c14=\"\" class=\"columns is-marginless\"><div _ngcontent-atg-c14=\"\" class=\"column is-8 is-offset-1 description\"><p _ngcontent-atg-c14=\"\">Les collectivités locales de plus de 3 500 habitants et plus de 50 agents, qui attribuent des subventions dont le montant annuel est supérieur à 23 000 €, ont l’obligation, à compter du 1er août 2017, de rendre accessibles les données essentielles de leurs conventions de subventions. \n",
    "La nature et les modalités de diffusion de ces données esse...</p></div></div></app-result-dataset><hr _ngcontent-atg-c8=\"\"></div><!----><!----><!----><!----><div _ngcontent-atg-c8=\"\" class=\"result-dataset\"><app-result-dataset _ngcontent-atg-c8=\"\" _nghost-atg-c14=\"\"><!----><!----><div _ngcontent-atg-c14=\"\" class=\"columns is-marginless\"><div _ngcontent-atg-c14=\"\" class=\"column is-1 is-paddingless image-item is-hidden-mobile\"><!----><img _ngcontent-atg-c14=\"\" alt=\"No Image Dataset\" src=\"./assets/img/vignette-data.png\"><!----></div><div _ngcontent-atg-c14=\"\" class=\"column is-8 title-item\"><!----><a _ngcontent-atg-c14=\"\" class=\"link-without-decoration\" href=\"/jeux-de-donnees/subventions-nature-ville-lyon/info\"><span _ngcontent-atg-c14=\"\" class=\"h3\">Subventions en nature de la Ville de Lyon</span><!----></a><p _ngcontent-atg-c14=\"\" class=\"providers\">Ville de Lyon</p></div></div><div _ngcontent-atg-c14=\"\" class=\"columns is-marginless\"><div _ngcontent-atg-c14=\"\" class=\"column is-8 is-offset-1 description\"><p _ngcontent-atg-c14=\"\">Les collectivités locales de plus de 3 500 habitants et plus de 50 agents, qui attribuent des subventions dont le montant annuel est supérieur à 23 000 €, ont l’obligation, à compter du 1er août 2017, de rendre accessibles les données essentielles de leurs conventions de subventions. \n",
    "La nature et les modalités de diffusion de ces données esse...</p></div></div></app-result-dataset><hr _ngcontent-atg-c8=\"\"></div><!----><!----><!----><!----><div _ngcontent-atg-c8=\"\" class=\"result-dataset\"><app-result-dataset _ngcontent-atg-c8=\"\" _nghost-atg-c14=\"\"><!----><!----><div _ngcontent-atg-c14=\"\" class=\"columns is-marginless\"><div _ngcontent-atg-c14=\"\" class=\"column is-1 is-paddingless image-item is-hidden-mobile\"><!----><!----><img _ngcontent-atg-c14=\"\" alt=\"\" aria-hidden=\"true\" src=\"https://download.data.grandlyon.com/catalogue/srv/fre//resources.get?uuid=86b47d67-1866-4e04-b33b-49710fa5f328&amp;fname=apercu_s.png\"><!----></div><div _ngcontent-atg-c14=\"\" class=\"column is-8 title-item\"><!----><a _ngcontent-atg-c14=\"\" class=\"link-without-decoration\" href=\"/jeux-de-donnees/toilettes-publiques-commune-lyon-v1/info\"><span _ngcontent-atg-c14=\"\" class=\"h3\">Toilettes publiques de la commune de Lyon </span><!----><!----><span _ngcontent-atg-c14=\"\" class=\"h3 subtitle\"> &nbsp;-&nbsp; </span><!----><span _ngcontent-atg-c14=\"\" class=\"h3 subtitle\">v1</span><!----></a><p _ngcontent-atg-c14=\"\" class=\"providers\">Ville de Lyon</p></div></div><div _ngcontent-atg-c14=\"\" class=\"columns is-marginless\"><div _ngcontent-atg-c14=\"\" class=\"column is-8 is-offset-1 description\"><p _ngcontent-atg-c14=\"\">Données ponctuelles représentant les toilettes publiques de gestion communale ou métropolitaine.</p></div></div></app-result-dataset><hr _ngcontent-atg-c8=\"\"></div><!----><!----><!----><!----><div _ngcontent-atg-c8=\"\" class=\"result-dataset\"><app-result-dataset _ngcontent-atg-c8=\"\" _nghost-atg-c14=\"\"><!----><!----><div _ngcontent-atg-c14=\"\" class=\"columns is-marginless\"><div _ngcontent-atg-c14=\"\" class=\"column is-1 is-paddingless image-item is-hidden-mobile\"><!----><!----><img _ngcontent-atg-c14=\"\" alt=\"\" aria-hidden=\"true\" src=\"https://download.data.grandlyon.com/catalogue/srv/fre//resources.get?uuid=718609f3-4037-4d2f-aa41-e7cec9f83aa1&amp;fname=apercu_s.png\"><!----></div><div _ngcontent-atg-c14=\"\" class=\"column is-8 title-item\"><!----><a _ngcontent-atg-c14=\"\" class=\"link-without-decoration\" href=\"/jeux-de-donnees/panneaux-affichage-libre-commune-lyon-v1/info\"><span _ngcontent-atg-c14=\"\" class=\"h3\">Panneaux d'affichage libre de la commune de Lyon </span><!----><!----><span _ngcontent-atg-c14=\"\" class=\"h3 subtitle\"> &nbsp;-&nbsp; </span><!----><span _ngcontent-atg-c14=\"\" class=\"h3 subtitle\">v1</span><!----></a><p _ngcontent-atg-c14=\"\" class=\"providers\">Ville de Lyon</p></div></div><div _ngcontent-atg-c14=\"\" class=\"columns is-marginless\"><div _ngcontent-atg-c14=\"\" class=\"column is-8 is-offset-1 description\"><p _ngcontent-atg-c14=\"\">Emplacements des panneaux destinés à l'affichage libre (associations, politiques, manifestations culturelles ou sportives, ...). Informations supplémentaires sur les dimensions des panneaux.</p></div></div></app-result-dataset><hr _ngcontent-atg-c8=\"\"></div><!----><!----><!----><!----><div _ngcontent-atg-c8=\"\" class=\"result-dataset\"><app-result-dataset _ngcontent-atg-c8=\"\" _nghost-atg-c14=\"\"><!----><!----><div _ngcontent-atg-c14=\"\" class=\"columns is-marginless\"><div _ngcontent-atg-c14=\"\" class=\"column is-1 is-paddingless image-item is-hidden-mobile\"><!----><!----><img _ngcontent-atg-c14=\"\" alt=\"\" aria-hidden=\"true\" src=\"https://download.data.grandlyon.com/catalogue/srv/fre//resources.get?uuid=b6ee8fa3-ccf3-4a70-a795-79e15fdff54a&amp;fname=apercu_s.png\"><!----></div><div _ngcontent-atg-c14=\"\" class=\"column is-8 title-item\"><!----><a _ngcontent-atg-c14=\"\" class=\"link-without-decoration\" href=\"/jeux-de-donnees/parcs-jardins-commune-lyon-v1/info\"><span _ngcontent-atg-c14=\"\" class=\"h3\">Parcs et Jardins de la commune de Lyon </span><!----><!----><span _ngcontent-atg-c14=\"\" class=\"h3 subtitle\"> &nbsp;-&nbsp; </span><!----><span _ngcontent-atg-c14=\"\" class=\"h3 subtitle\">v1</span><!----></a><p _ngcontent-atg-c14=\"\" class=\"providers\">Ville de Lyon</p></div></div><div _ngcontent-atg-c14=\"\" class=\"columns is-marginless\"><div _ngcontent-atg-c14=\"\" class=\"column is-8 is-offset-1 description\"><p _ngcontent-atg-c14=\"\">Parcs et Jardins accueillant du public et faisant l'objet d'une réglementation particulière</p></div></div></app-result-dataset><hr _ngcontent-atg-c8=\"\"></div><!----><!----></div><div _ngcontent-atg-c8=\"\" class=\"pagination-bottom\"><!----><app-paginator _ngcontent-atg-c8=\"\" _nghost-atg-c12=\"\"><div _ngcontent-atg-c12=\"\" class=\"columns\"><div _ngcontent-atg-c12=\"\" class=\"column\"><!----><div _ngcontent-atg-c12=\"\" aria-label=\"pagination\" class=\"pagination-dgl is-centered is-small\" role=\"navigation\"><!----><button _ngcontent-atg-c12=\"\" aria-label=\"Page précédente\" class=\"button previous\" disabled=\"\"><svg _ngcontent-atg-c12=\"\" viewBox=\"0 0 15 9\" xmlns=\"http://www.w3.org/2000/svg\"><path _ngcontent-atg-c12=\"\" class=\"brandcolor\" d=\"M7.5 7.5c-.1 0-.3-.1-.4-.1l-6-6C1 1.1 1 .8 1.1.6s.5-.2.7 0l5.6 5.6L13 .6c.2-.2.5-.2.7 0s.2.5 0 .7l-6 6c.1.1-.1.2-.2.2z\"></path><path _ngcontent-atg-c12=\"\" class=\"brandcolor\" d=\"M7.5 7.5c-.1 0-.3-.1-.4-.1l-6-6C1 1.1 1 .8 1.1.6s.5-.2.7 0l5.6 5.6L13 .6c.2-.2.5-.2.7 0s.2.5 0 .7l-6 6c.1.1-.1.2-.2.2z\"></path></svg></button><!----><ul _ngcontent-atg-c12=\"\"><!----><!----><li _ngcontent-atg-c12=\"\"><!----><a _ngcontent-atg-c12=\"\" class=\"button is-current\" aria-label=\"1\" href=\"/jeux-de-donnees?page=1\" aria-current=\"page\">1</a><!----></li><!----><li _ngcontent-atg-c12=\"\"><!----><a _ngcontent-atg-c12=\"\" class=\"button\" aria-label=\"2\" href=\"/jeux-de-donnees?page=2\">2</a><!----></li><!----><li _ngcontent-atg-c12=\"\"><!----><a _ngcontent-atg-c12=\"\" class=\"button\" aria-label=\"3\" href=\"/jeux-de-donnees?page=3\">3</a><!----></li><!----><li _ngcontent-atg-c12=\"\"><!----><a _ngcontent-atg-c12=\"\" class=\"button\" aria-label=\"4\" href=\"/jeux-de-donnees?page=4\">4</a><!----></li></ul><!----><button _ngcontent-atg-c12=\"\" aria-label=\"Page suivante\" class=\"button next\"><svg _ngcontent-atg-c12=\"\" viewBox=\"0 0 15 9\" xmlns=\"http://www.w3.org/2000/svg\"><path _ngcontent-atg-c12=\"\" class=\"brandcolor\" d=\"M7.5 7.5c-.1 0-.3-.1-.4-.1l-6-6C1 1.1 1 .8 1.1.6s.5-.2.7 0l5.6 5.6L13 .6c.2-.2.5-.2.7 0s.2.5 0 .7l-6 6c.1.1-.1.2-.2.2z\"></path><path _ngcontent-atg-c12=\"\" class=\"brandcolor\" d=\"M7.5 7.5c-.1 0-.3-.1-.4-.1l-6-6C1 1.1 1 .8 1.1.6s.5-.2.7 0l5.6 5.6L13 .6c.2-.2.5-.2.7 0s.2.5 0 .7l-6 6c.1.1-.1.2-.2.2z\"></path></svg></button><!----></div></div></div></app-paginator></div></div>\"\"\")"
   ]
  },
  {
   "cell_type": "code",
   "execution_count": 107,
   "id": "bee52721-3cfa-4c0f-8da1-dd8502808a95",
   "metadata": {},
   "outputs": [],
   "source": [
    "soup2 = BeautifulSoup(\"\"\"<div _ngcontent-atg-c8=\"\" class=\"column is-9-desktop is-12-touch results-column\" https:=\"\" data.grandlyon.com=\"\"><h1 _ngcontent-atg-c8=\"\" class=\"sr-only\">Résultat(s) de recherche</h1><div _ngcontent-atg-c8=\"\" class=\"tab-results\"><app-results-tab-scope _ngcontent-atg-c8=\"\" _nghost-atg-c11=\"\"><div _ngcontent-atg-c11=\"\" class=\"tabs-container\"><button _ngcontent-atg-c11=\"\" class=\"is-selected\" aria-current=\"page\"><span _ngcontent-atg-c11=\"\" class=\"tab-label\">Tous</span><span _ngcontent-atg-c11=\"\" class=\"tab-count\">17</span></button><button _ngcontent-atg-c11=\"\"><span _ngcontent-atg-c11=\"\" class=\"tab-label\">Données</span><span _ngcontent-atg-c11=\"\" class=\"tab-count\">17</span></button><button _ngcontent-atg-c11=\"\"><span _ngcontent-atg-c11=\"\" class=\"tab-label\">Services</span><span _ngcontent-atg-c11=\"\" class=\"tab-count\">0</span></button></div></app-results-tab-scope></div><!----><div _ngcontent-atg-c8=\"\" class=\"columns is-multiline is-vcentered is-marginless header-results\"><!----><div _ngcontent-atg-c8=\"\" class=\"column is-6-mobile\"><span _ngcontent-atg-c8=\"\">6 - 10&nbsp;</span><span _ngcontent-atg-c8=\"\"> sur 17 résultats</span></div><div _ngcontent-atg-c8=\"\" class=\"column is-12-mobile pagination\"><!----><app-paginator _ngcontent-atg-c8=\"\" _nghost-atg-c12=\"\"><div _ngcontent-atg-c12=\"\" class=\"columns\"><div _ngcontent-atg-c12=\"\" class=\"column\"><!----><div _ngcontent-atg-c12=\"\" aria-label=\"pagination\" class=\"pagination-dgl is-centered is-small\" role=\"navigation\"><!----><button _ngcontent-atg-c12=\"\" aria-label=\"Page précédente\" class=\"button previous\"><svg _ngcontent-atg-c12=\"\" viewBox=\"0 0 15 9\" xmlns=\"http://www.w3.org/2000/svg\"><path _ngcontent-atg-c12=\"\" class=\"brandcolor\" d=\"M7.5 7.5c-.1 0-.3-.1-.4-.1l-6-6C1 1.1 1 .8 1.1.6s.5-.2.7 0l5.6 5.6L13 .6c.2-.2.5-.2.7 0s.2.5 0 .7l-6 6c.1.1-.1.2-.2.2z\"></path><path _ngcontent-atg-c12=\"\" class=\"brandcolor\" d=\"M7.5 7.5c-.1 0-.3-.1-.4-.1l-6-6C1 1.1 1 .8 1.1.6s.5-.2.7 0l5.6 5.6L13 .6c.2-.2.5-.2.7 0s.2.5 0 .7l-6 6c.1.1-.1.2-.2.2z\"></path></svg></button><!----><ul _ngcontent-atg-c12=\"\"><!----><!----><li _ngcontent-atg-c12=\"\"><!----><a _ngcontent-atg-c12=\"\" class=\"button\" aria-label=\"1\" href=\"/jeux-de-donnees?page=1\">1</a><!----></li><!----><li _ngcontent-atg-c12=\"\"><!----><a _ngcontent-atg-c12=\"\" class=\"button is-current\" aria-label=\"2\" href=\"/jeux-de-donnees?page=2\" aria-current=\"page\">2</a><!----></li><!----><li _ngcontent-atg-c12=\"\"><!----><a _ngcontent-atg-c12=\"\" class=\"button\" aria-label=\"3\" href=\"/jeux-de-donnees?page=3\">3</a><!----></li><!----><li _ngcontent-atg-c12=\"\"><!----><a _ngcontent-atg-c12=\"\" class=\"button\" aria-label=\"4\" href=\"/jeux-de-donnees?page=4\">4</a><!----></li></ul><!----><button _ngcontent-atg-c12=\"\" aria-label=\"Page suivante\" class=\"button next\"><svg _ngcontent-atg-c12=\"\" viewBox=\"0 0 15 9\" xmlns=\"http://www.w3.org/2000/svg\"><path _ngcontent-atg-c12=\"\" class=\"brandcolor\" d=\"M7.5 7.5c-.1 0-.3-.1-.4-.1l-6-6C1 1.1 1 .8 1.1.6s.5-.2.7 0l5.6 5.6L13 .6c.2-.2.5-.2.7 0s.2.5 0 .7l-6 6c.1.1-.1.2-.2.2z\"></path><path _ngcontent-atg-c12=\"\" class=\"brandcolor\" d=\"M7.5 7.5c-.1 0-.3-.1-.4-.1l-6-6C1 1.1 1 .8 1.1.6s.5-.2.7 0l5.6 5.6L13 .6c.2-.2.5-.2.7 0s.2.5 0 .7l-6 6c.1.1-.1.2-.2.2z\"></path></svg></button><!----></div></div></div></app-paginator></div><div _ngcontent-atg-c8=\"\" class=\"column is-6-mobile sort-dropdown\"><app-sort _ngcontent-atg-c8=\"\" _nghost-atg-c13=\"\"><div _ngcontent-atg-c13=\"\" class=\"dropdown is-fullwidth\"><div _ngcontent-atg-c13=\"\" class=\"dropdown-trigger\"><button _ngcontent-atg-c13=\"\" aria-controls=\"dropdown-menu\" aria-haspopup=\"true\" class=\"button\"><span _ngcontent-atg-c13=\"\" class=\"title-dropdown\"><span _ngcontent-atg-c13=\"\">Classer par</span><span _ngcontent-atg-c13=\"\" class=\"selected-option\">Date (décroissante)</span></span><span _ngcontent-atg-c13=\"\" class=\"icon is-small\"><svg _ngcontent-atg-c13=\"\" viewBox=\"0 0 15 9\" xmlns=\"http://www.w3.org/2000/svg\"><path _ngcontent-atg-c13=\"\" class=\"brandcolor\" d=\"M7.5 7.5c-.1 0-.3-.1-.4-.1l-6-6C1 1.1 1 .8 1.1.6s.5-.2.7 0l5.6 5.6L13 .6c.2-.2.5-.2.7 0s.2.5 0 .7l-6 6c.1.1-.1.2-.2.2z\"></path><path _ngcontent-atg-c13=\"\" class=\"brandcolor\" d=\"M7.5 7.5c-.1 0-.3-.1-.4-.1l-6-6C1 1.1 1 .8 1.1.6s.5-.2.7 0l5.6 5.6L13 .6c.2-.2.5-.2.7 0s.2.5 0 .7l-6 6c.1.1-.1.2-.2.2z\"></path></svg></span></button></div><div _ngcontent-atg-c13=\"\" class=\"dropdown-menu\" id=\"dropdown-menu\" role=\"menu\"><div _ngcontent-atg-c13=\"\" class=\"dropdown-content\"><!----><a _ngcontent-atg-c13=\"\" class=\"dropdown-item\">Pertinence</a><a _ngcontent-atg-c13=\"\" class=\"dropdown-item\">Date (croissante)</a><a _ngcontent-atg-c13=\"\" class=\"dropdown-item\">Date (décroissante)</a><a _ngcontent-atg-c13=\"\" class=\"dropdown-item\">Titre (A → Z)</a><a _ngcontent-atg-c13=\"\" class=\"dropdown-item\">Titre (Z → A)</a></div></div></div></app-sort></div></div><!----><!----><div _ngcontent-atg-c8=\"\" class=\"datasets\"><!----><!----><!----><div _ngcontent-atg-c8=\"\" class=\"result-dataset\"><app-result-dataset _ngcontent-atg-c8=\"\" _nghost-atg-c14=\"\"><!----><!----><div _ngcontent-atg-c14=\"\" class=\"columns is-marginless\"><div _ngcontent-atg-c14=\"\" class=\"column is-1 is-paddingless image-item is-hidden-mobile\"><!----><!----><img _ngcontent-atg-c14=\"\" alt=\"\" aria-hidden=\"true\" src=\"https://download.data.grandlyon.com/catalogue/srv/fre/resources.get?uuid=b8f6abdd-c106-4bda-ac02-e12ada2a556b&amp;fname=carto_AL_T600_s.png\"><!----></div><div _ngcontent-atg-c14=\"\" class=\"column is-8 title-item\"><!----><a _ngcontent-atg-c14=\"\" class=\"link-without-decoration\" href=\"/jeux-de-donnees/dessertes-livraison-commune-lyon/info\"><span _ngcontent-atg-c14=\"\" class=\"h3\">Dessertes de livraison de la commune de Lyon</span><!----></a><p _ngcontent-atg-c14=\"\" class=\"providers\">Ville de Lyon</p></div></div><div _ngcontent-atg-c14=\"\" class=\"columns is-marginless\"><div _ngcontent-atg-c14=\"\" class=\"column is-8 is-offset-1 description\"><p _ngcontent-atg-c14=\"\">Localisation des emplacements règlementés pour les livraisons</p></div></div></app-result-dataset><hr _ngcontent-atg-c8=\"\"></div><!----><!----><!----><!----><div _ngcontent-atg-c8=\"\" class=\"result-dataset\"><app-result-dataset _ngcontent-atg-c8=\"\" _nghost-atg-c14=\"\"><!----><!----><div _ngcontent-atg-c14=\"\" class=\"columns is-marginless\"><div _ngcontent-atg-c14=\"\" class=\"column is-1 is-paddingless image-item is-hidden-mobile\"><!----><!----><img _ngcontent-atg-c14=\"\" alt=\"\" aria-hidden=\"true\" src=\"https://download.data.grandlyon.com/catalogue/srv/fre/resources.get?uuid=ae1866c1-d483-4572-ade2-3e3b1619309a&amp;fname=carto_PMR_T600_s.png\"><!----></div><div _ngcontent-atg-c14=\"\" class=\"column is-8 title-item\"><!----><a _ngcontent-atg-c14=\"\" class=\"link-without-decoration\" href=\"/jeux-de-donnees/stationnement-reglemente-personnes-a-mobilite-reduite-commune-lyon/info\"><span _ngcontent-atg-c14=\"\" class=\"h3\">Stationnement réglementé pour les Personnes à Mobilité Réduite dans la Commune de Lyon</span><!----></a><p _ngcontent-atg-c14=\"\" class=\"providers\">Ville de Lyon</p></div></div><div _ngcontent-atg-c14=\"\" class=\"columns is-marginless\"><div _ngcontent-atg-c14=\"\" class=\"column is-8 is-offset-1 description\"><p _ngcontent-atg-c14=\"\">Localisation des emplacements réglementés pour les personnes titulaires de la carte \"Personnes à Mobilité Réduite\".</p></div></div></app-result-dataset><hr _ngcontent-atg-c8=\"\"></div><!----><!----><!----><!----><div _ngcontent-atg-c8=\"\" class=\"result-dataset\"><app-result-dataset _ngcontent-atg-c8=\"\" _nghost-atg-c14=\"\"><!----><!----><div _ngcontent-atg-c14=\"\" class=\"columns is-marginless\"><div _ngcontent-atg-c14=\"\" class=\"column is-1 is-paddingless image-item is-hidden-mobile\"><!----><!----><img _ngcontent-atg-c14=\"\" alt=\"\" aria-hidden=\"true\" src=\"https://download.data.grandlyon.com/catalogue/srv/fre/resources.get?uuid=4196eb59-db70-4aed-925a-0aaffa2bf3d1&amp;fname=carto_2RM_T600_s.png\"><!----></div><div _ngcontent-atg-c14=\"\" class=\"column is-8 title-item\"><!----><a _ngcontent-atg-c14=\"\" class=\"link-without-decoration\" href=\"/jeux-de-donnees/emplacements-motos-commune-lyon/info\"><span _ngcontent-atg-c14=\"\" class=\"h3\">Emplacements motos de la commune de Lyon</span><!----></a><p _ngcontent-atg-c14=\"\" class=\"providers\">Ville de Lyon</p></div></div><div _ngcontent-atg-c14=\"\" class=\"columns is-marginless\"><div _ngcontent-atg-c14=\"\" class=\"column is-8 is-offset-1 description\"><p _ngcontent-atg-c14=\"\">Localisation des emplacements règlementés pour les deux roues motorisés.</p></div></div></app-result-dataset><hr _ngcontent-atg-c8=\"\"></div><!----><!----><!----><!----><div _ngcontent-atg-c8=\"\" class=\"result-dataset\"><app-result-dataset _ngcontent-atg-c8=\"\" _nghost-atg-c14=\"\"><!----><!----><div _ngcontent-atg-c14=\"\" class=\"columns is-marginless\"><div _ngcontent-atg-c14=\"\" class=\"column is-1 is-paddingless image-item is-hidden-mobile\"><!----><!----><img _ngcontent-atg-c14=\"\" alt=\"\" aria-hidden=\"true\" src=\"https://download.data.grandlyon.com/catalogue/srv/fre/resources.get?uuid=cb8add60-7372-40d7-ad8c-caff33c5202c&amp;fname=Contour_de_bureau_de_vote_2_T600pix_s.png\"><!----></div><div _ngcontent-atg-c14=\"\" class=\"column is-8 title-item\"><!----><a _ngcontent-atg-c14=\"\" class=\"link-without-decoration\" href=\"/jeux-de-donnees/contours-bureaux-vote-commune-lyon/info\"><span _ngcontent-atg-c14=\"\" class=\"h3\">Contours de bureaux de vote de la commune de Lyon</span><!----></a><p _ngcontent-atg-c14=\"\" class=\"providers\">Ville de Lyon</p></div></div><div _ngcontent-atg-c14=\"\" class=\"columns is-marginless\"><div _ngcontent-atg-c14=\"\" class=\"column is-8 is-offset-1 description\"><p _ngcontent-atg-c14=\"\">Contour géographique de bureau de vote. Un bureau et son contour sont repérés par un numéro de type 403 (3ème bureau du 4ème arrondissement) ou 612 (12ème bureau du 6ème arrondissement).\n",
    "Les électeurs résidant dans ce contour constituent les électeurs du bureau.\n",
    "Les données sont applicables au 1er mars 2022 jusqu’au 28 février 2023.</p></div></div></app-result-dataset><hr _ngcontent-atg-c8=\"\"></div><!----><!----><!----><!----><div _ngcontent-atg-c8=\"\" class=\"result-dataset\"><app-result-dataset _ngcontent-atg-c8=\"\" _nghost-atg-c14=\"\"><!----><!----><div _ngcontent-atg-c14=\"\" class=\"columns is-marginless\"><div _ngcontent-atg-c14=\"\" class=\"column is-1 is-paddingless image-item is-hidden-mobile\"><!----><!----><img _ngcontent-atg-c14=\"\" alt=\"\" aria-hidden=\"true\" src=\"https://download.data.grandlyon.com/catalogue/srv/fre/resources.get?uuid=21a1f66b-bff2-4294-a0c8-ac90bc7b2748&amp;fname=Bureau_de_vote_2_T600pix_s.png\"><!----></div><div _ngcontent-atg-c14=\"\" class=\"column is-8 title-item\"><!----><a _ngcontent-atg-c14=\"\" class=\"link-without-decoration\" href=\"/jeux-de-donnees/bureaux-vote-commune-lyon/info\"><span _ngcontent-atg-c14=\"\" class=\"h3\">Bureaux de vote de la commune de Lyon</span><!----></a><p _ngcontent-atg-c14=\"\" class=\"providers\">Ville de Lyon</p></div></div><div _ngcontent-atg-c14=\"\" class=\"columns is-marginless\"><div _ngcontent-atg-c14=\"\" class=\"column is-8 is-offset-1 description\"><p _ngcontent-atg-c14=\"\">Bureau de vote repéré par un numéro de type 403 (3ème bureau du 4ème arrondissement) ou 612 (12ème bureau du 6ème arrondissement). Dans un même \"lieu de vote\" (exemple : une école), il peut y avoir un ou plusieurs bureaux de vote.\n",
    "Un bureau correspond à un contour géographique. Les électeurs résidant dans ce contour constituent les électeurs d...</p></div></div></app-result-dataset><hr _ngcontent-atg-c8=\"\"></div><!----><!----></div><div _ngcontent-atg-c8=\"\" class=\"pagination-bottom\"><!----><app-paginator _ngcontent-atg-c8=\"\" _nghost-atg-c12=\"\"><div _ngcontent-atg-c12=\"\" class=\"columns\"><div _ngcontent-atg-c12=\"\" class=\"column\"><!----><div _ngcontent-atg-c12=\"\" aria-label=\"pagination\" class=\"pagination-dgl is-centered is-small\" role=\"navigation\"><!----><button _ngcontent-atg-c12=\"\" aria-label=\"Page précédente\" class=\"button previous\"><svg _ngcontent-atg-c12=\"\" viewBox=\"0 0 15 9\" xmlns=\"http://www.w3.org/2000/svg\"><path _ngcontent-atg-c12=\"\" class=\"brandcolor\" d=\"M7.5 7.5c-.1 0-.3-.1-.4-.1l-6-6C1 1.1 1 .8 1.1.6s.5-.2.7 0l5.6 5.6L13 .6c.2-.2.5-.2.7 0s.2.5 0 .7l-6 6c.1.1-.1.2-.2.2z\"></path><path _ngcontent-atg-c12=\"\" class=\"brandcolor\" d=\"M7.5 7.5c-.1 0-.3-.1-.4-.1l-6-6C1 1.1 1 .8 1.1.6s.5-.2.7 0l5.6 5.6L13 .6c.2-.2.5-.2.7 0s.2.5 0 .7l-6 6c.1.1-.1.2-.2.2z\"></path></svg></button><!----><ul _ngcontent-atg-c12=\"\"><!----><!----><li _ngcontent-atg-c12=\"\"><!----><a _ngcontent-atg-c12=\"\" class=\"button\" aria-label=\"1\" href=\"/jeux-de-donnees?page=1\">1</a><!----></li><!----><li _ngcontent-atg-c12=\"\"><!----><a _ngcontent-atg-c12=\"\" class=\"button is-current\" aria-label=\"2\" href=\"/jeux-de-donnees?page=2\" aria-current=\"page\">2</a><!----></li><!----><li _ngcontent-atg-c12=\"\"><!----><a _ngcontent-atg-c12=\"\" class=\"button\" aria-label=\"3\" href=\"/jeux-de-donnees?page=3\">3</a><!----></li><!----><li _ngcontent-atg-c12=\"\"><!----><a _ngcontent-atg-c12=\"\" class=\"button\" aria-label=\"4\" href=\"/jeux-de-donnees?page=4\">4</a><!----></li></ul><!----><button _ngcontent-atg-c12=\"\" aria-label=\"Page suivante\" class=\"button next\"><svg _ngcontent-atg-c12=\"\" viewBox=\"0 0 15 9\" xmlns=\"http://www.w3.org/2000/svg\"><path _ngcontent-atg-c12=\"\" class=\"brandcolor\" d=\"M7.5 7.5c-.1 0-.3-.1-.4-.1l-6-6C1 1.1 1 .8 1.1.6s.5-.2.7 0l5.6 5.6L13 .6c.2-.2.5-.2.7 0s.2.5 0 .7l-6 6c.1.1-.1.2-.2.2z\"></path><path _ngcontent-atg-c12=\"\" class=\"brandcolor\" d=\"M7.5 7.5c-.1 0-.3-.1-.4-.1l-6-6C1 1.1 1 .8 1.1.6s.5-.2.7 0l5.6 5.6L13 .6c.2-.2.5-.2.7 0s.2.5 0 .7l-6 6c.1.1-.1.2-.2.2z\"></path></svg></button><!----></div></div></div></app-paginator></div></div>\"\"\")"
   ]
  },
  {
   "cell_type": "code",
   "execution_count": 114,
   "id": "749718df-662a-4096-903e-3b67e042171c",
   "metadata": {},
   "outputs": [],
   "source": [
    "soup3 = BeautifulSoup(\"\"\"<div _ngcontent-ayl-c7=\"\" class=\"column is-9-desktop is-12-touch results-column\"><h1 _ngcontent-ayl-c7=\"\" class=\"sr-only\">Résultat(s) de recherche</h1><div _ngcontent-ayl-c7=\"\" class=\"tab-results\"><app-results-tab-scope _ngcontent-ayl-c7=\"\" _nghost-ayl-c10=\"\"><div _ngcontent-ayl-c10=\"\" class=\"tabs-container\"><button _ngcontent-ayl-c10=\"\" class=\"is-selected\" aria-current=\"page\"><span _ngcontent-ayl-c10=\"\" class=\"tab-label\">Tous</span><span _ngcontent-ayl-c10=\"\" class=\"tab-count\">17</span></button><button _ngcontent-ayl-c10=\"\"><span _ngcontent-ayl-c10=\"\" class=\"tab-label\">Données</span><span _ngcontent-ayl-c10=\"\" class=\"tab-count\">17</span></button><button _ngcontent-ayl-c10=\"\"><span _ngcontent-ayl-c10=\"\" class=\"tab-label\">Services</span><span _ngcontent-ayl-c10=\"\" class=\"tab-count\">0</span></button></div></app-results-tab-scope></div><!----><div _ngcontent-ayl-c7=\"\" class=\"columns is-multiline is-vcentered is-marginless header-results\"><!----><div _ngcontent-ayl-c7=\"\" class=\"column is-6-mobile\"><span _ngcontent-ayl-c7=\"\">11 - 15&nbsp;</span><span _ngcontent-ayl-c7=\"\"> sur 17 résultats</span></div><div _ngcontent-ayl-c7=\"\" class=\"column is-12-mobile pagination\"><!----><app-paginator _ngcontent-ayl-c7=\"\" _nghost-ayl-c11=\"\"><div _ngcontent-ayl-c11=\"\" class=\"columns\"><div _ngcontent-ayl-c11=\"\" class=\"column\"><!----><div _ngcontent-ayl-c11=\"\" aria-label=\"pagination\" class=\"pagination-dgl is-centered is-small\" role=\"navigation\"><!----><button _ngcontent-ayl-c11=\"\" aria-label=\"Page précédente\" class=\"button previous\"><svg _ngcontent-ayl-c11=\"\" viewBox=\"0 0 15 9\" xmlns=\"http://www.w3.org/2000/svg\"><path _ngcontent-ayl-c11=\"\" class=\"brandcolor\" d=\"M7.5 7.5c-.1 0-.3-.1-.4-.1l-6-6C1 1.1 1 .8 1.1.6s.5-.2.7 0l5.6 5.6L13 .6c.2-.2.5-.2.7 0s.2.5 0 .7l-6 6c.1.1-.1.2-.2.2z\"></path><path _ngcontent-ayl-c11=\"\" class=\"brandcolor\" d=\"M7.5 7.5c-.1 0-.3-.1-.4-.1l-6-6C1 1.1 1 .8 1.1.6s.5-.2.7 0l5.6 5.6L13 .6c.2-.2.5-.2.7 0s.2.5 0 .7l-6 6c.1.1-.1.2-.2.2z\"></path></svg></button><!----><ul _ngcontent-ayl-c11=\"\"><!----><!----><li _ngcontent-ayl-c11=\"\"><!----><a _ngcontent-ayl-c11=\"\" class=\"button\" aria-label=\"1\" href=\"/jeux-de-donnees?page=1\">1</a><!----></li><!----><li _ngcontent-ayl-c11=\"\"><!----><a _ngcontent-ayl-c11=\"\" class=\"button\" aria-label=\"2\" href=\"/jeux-de-donnees?page=2\">2</a><!----></li><!----><li _ngcontent-ayl-c11=\"\"><!----><a _ngcontent-ayl-c11=\"\" class=\"button is-current\" aria-label=\"3\" href=\"/jeux-de-donnees?page=3\" aria-current=\"page\">3</a><!----></li><!----><li _ngcontent-ayl-c11=\"\"><!----><a _ngcontent-ayl-c11=\"\" class=\"button\" aria-label=\"4\" href=\"/jeux-de-donnees?page=4\">4</a><!----></li></ul><!----><button _ngcontent-ayl-c11=\"\" aria-label=\"Page suivante\" class=\"button next\"><svg _ngcontent-ayl-c11=\"\" viewBox=\"0 0 15 9\" xmlns=\"http://www.w3.org/2000/svg\"><path _ngcontent-ayl-c11=\"\" class=\"brandcolor\" d=\"M7.5 7.5c-.1 0-.3-.1-.4-.1l-6-6C1 1.1 1 .8 1.1.6s.5-.2.7 0l5.6 5.6L13 .6c.2-.2.5-.2.7 0s.2.5 0 .7l-6 6c.1.1-.1.2-.2.2z\"></path><path _ngcontent-ayl-c11=\"\" class=\"brandcolor\" d=\"M7.5 7.5c-.1 0-.3-.1-.4-.1l-6-6C1 1.1 1 .8 1.1.6s.5-.2.7 0l5.6 5.6L13 .6c.2-.2.5-.2.7 0s.2.5 0 .7l-6 6c.1.1-.1.2-.2.2z\"></path></svg></button><!----></div></div></div></app-paginator></div><div _ngcontent-ayl-c7=\"\" class=\"column is-6-mobile sort-dropdown\"><app-sort _ngcontent-ayl-c7=\"\" _nghost-ayl-c12=\"\"><div _ngcontent-ayl-c12=\"\" class=\"dropdown is-fullwidth\"><div _ngcontent-ayl-c12=\"\" class=\"dropdown-trigger\"><button _ngcontent-ayl-c12=\"\" aria-controls=\"dropdown-menu\" aria-haspopup=\"true\" class=\"button\"><span _ngcontent-ayl-c12=\"\" class=\"title-dropdown\"><span _ngcontent-ayl-c12=\"\">Classer par</span><span _ngcontent-ayl-c12=\"\" class=\"selected-option\">Date (décroissante)</span></span><span _ngcontent-ayl-c12=\"\" class=\"icon is-small\"><svg _ngcontent-ayl-c12=\"\" viewBox=\"0 0 15 9\" xmlns=\"http://www.w3.org/2000/svg\"><path _ngcontent-ayl-c12=\"\" class=\"brandcolor\" d=\"M7.5 7.5c-.1 0-.3-.1-.4-.1l-6-6C1 1.1 1 .8 1.1.6s.5-.2.7 0l5.6 5.6L13 .6c.2-.2.5-.2.7 0s.2.5 0 .7l-6 6c.1.1-.1.2-.2.2z\"></path><path _ngcontent-ayl-c12=\"\" class=\"brandcolor\" d=\"M7.5 7.5c-.1 0-.3-.1-.4-.1l-6-6C1 1.1 1 .8 1.1.6s.5-.2.7 0l5.6 5.6L13 .6c.2-.2.5-.2.7 0s.2.5 0 .7l-6 6c.1.1-.1.2-.2.2z\"></path></svg></span></button></div><div _ngcontent-ayl-c12=\"\" class=\"dropdown-menu\" id=\"dropdown-menu\" role=\"menu\"><div _ngcontent-ayl-c12=\"\" class=\"dropdown-content\"><!----><a _ngcontent-ayl-c12=\"\" class=\"dropdown-item\">Pertinence</a><a _ngcontent-ayl-c12=\"\" class=\"dropdown-item\">Date (croissante)</a><a _ngcontent-ayl-c12=\"\" class=\"dropdown-item\">Date (décroissante)</a><a _ngcontent-ayl-c12=\"\" class=\"dropdown-item\">Titre (A → Z)</a><a _ngcontent-ayl-c12=\"\" class=\"dropdown-item\">Titre (Z → A)</a></div></div></div></app-sort></div></div><!----><!----><div _ngcontent-ayl-c7=\"\" class=\"datasets\"><!----><!----><!----><div _ngcontent-ayl-c7=\"\" class=\"result-dataset\"><app-result-dataset _ngcontent-ayl-c7=\"\" _nghost-ayl-c13=\"\"><!----><!----><div _ngcontent-ayl-c13=\"\" class=\"columns is-marginless\"><div _ngcontent-ayl-c13=\"\" class=\"column is-1 is-paddingless image-item is-hidden-mobile\"><!----><!----><img _ngcontent-ayl-c13=\"\" alt=\"\" aria-hidden=\"true\" src=\"https://download.data.grandlyon.com/catalogue/srv/fre/resources.get?uuid=a482e817-9a3e-490f-b6ba-8a128c639fc2&amp;fname=Lieu_de_vote_2_T600pix_s.png\"><!----></div><div _ngcontent-ayl-c13=\"\" class=\"column is-8 title-item\"><!----><a _ngcontent-ayl-c13=\"\" class=\"link-without-decoration\" href=\"/jeux-de-donnees/lieux-vote-commune-lyon/info\"><span _ngcontent-ayl-c13=\"\" class=\"h3\">Lieux de vote de la commune de Lyon</span><!----></a><p _ngcontent-ayl-c13=\"\" class=\"providers\">Ville de Lyon</p></div></div><div _ngcontent-ayl-c13=\"\" class=\"columns is-marginless\"><div _ngcontent-ayl-c13=\"\" class=\"column is-8 is-offset-1 description\"><p _ngcontent-ayl-c13=\"\">Endroit où les électeurs d'un ou plusieurs bureaux viennent voter.\n",
    "Les données sont applicables au 1er mars 2018 jusqu’au 28 février 2019.</p></div></div></app-result-dataset><hr _ngcontent-ayl-c7=\"\"></div><!----><!----><!----><!----><div _ngcontent-ayl-c7=\"\" class=\"result-dataset\"><app-result-dataset _ngcontent-ayl-c7=\"\" _nghost-ayl-c13=\"\"><!----><!----><div _ngcontent-ayl-c13=\"\" class=\"columns is-marginless\"><div _ngcontent-ayl-c13=\"\" class=\"column is-1 is-paddingless image-item is-hidden-mobile\"><!----><!----><img _ngcontent-ayl-c13=\"\" alt=\"\" aria-hidden=\"true\" src=\"https://download.data.grandlyon.com/catalogue/srv/fre/resources.get?uuid=aac3cf71-7f53-42fe-bf06-16d42445b83b&amp;fname=Canton_2_T600pix_s.png\"><!----></div><div _ngcontent-ayl-c13=\"\" class=\"column is-8 title-item\"><!----><a _ngcontent-ayl-c13=\"\" class=\"link-without-decoration\" href=\"/jeux-de-donnees/cantons-commune-lyon/info\"><span _ngcontent-ayl-c13=\"\" class=\"h3\">Cantons de la commune de Lyon</span><!----></a><p _ngcontent-ayl-c13=\"\" class=\"providers\">Ville de Lyon</p></div></div><div _ngcontent-ayl-c13=\"\" class=\"columns is-marginless\"><div _ngcontent-ayl-c13=\"\" class=\"column is-8 is-offset-1 description\"><p _ngcontent-ayl-c13=\"\">Le canton est le territoire sur lequel est élu le conseiller général qui siège ensuite au Conseil Général.\n",
    "A partir de 2014, suite à la réforme en cours, le canton servira à élire un ou deux conseillers départementaux qui siègeront aux conseils départementaux.</p></div></div></app-result-dataset><hr _ngcontent-ayl-c7=\"\"></div><!----><!----><!----><!----><div _ngcontent-ayl-c7=\"\" class=\"result-dataset\"><app-result-dataset _ngcontent-ayl-c7=\"\" _nghost-ayl-c13=\"\"><!----><!----><div _ngcontent-ayl-c13=\"\" class=\"columns is-marginless\"><div _ngcontent-ayl-c13=\"\" class=\"column is-1 is-paddingless image-item is-hidden-mobile\"><!----><img _ngcontent-ayl-c13=\"\" alt=\"No Image Dataset\" src=\"./assets/img/vignette-collection.png\"><!----></div><div _ngcontent-ayl-c13=\"\" class=\"column is-8 title-item\"><!----><span _ngcontent-ayl-c13=\"\" class=\"surtitle\"> Collection de données géographiques </span><a _ngcontent-ayl-c13=\"\" class=\"link-without-decoration\" href=\"/jeux-de-donnees/vie-citoyenne-commune-lyon/info\"><span _ngcontent-ayl-c13=\"\" class=\"h3\">Vie citoyenne de la commune de Lyon</span><!----></a><p _ngcontent-ayl-c13=\"\" class=\"providers\">Ville de Lyon</p></div></div><div _ngcontent-ayl-c13=\"\" class=\"columns is-marginless\"><div _ngcontent-ayl-c13=\"\" class=\"column is-8 is-offset-1 description\"><p _ngcontent-ayl-c13=\"\">Ensemble d'informations relatives à la vie citoyenne de la commune de Lyon : mairies, découpages électoraux, lieux de vote, conseils de quartier.\n",
    "Les données Elections sont applicables au 1er mars 2019 jusqu’au 28 février 2020 .</p></div></div></app-result-dataset><hr _ngcontent-ayl-c7=\"\"></div><!----><!----><!----><!----><div _ngcontent-ayl-c7=\"\" class=\"result-dataset\"><app-result-dataset _ngcontent-ayl-c7=\"\" _nghost-ayl-c13=\"\"><!----><!----><div _ngcontent-ayl-c13=\"\" class=\"columns is-marginless\"><div _ngcontent-ayl-c13=\"\" class=\"column is-1 is-paddingless image-item is-hidden-mobile\"><!----><!----><img _ngcontent-ayl-c13=\"\" alt=\"\" aria-hidden=\"true\" src=\"https://download.data.grandlyon.com/catalogue/srv/fre/resources.get?uuid=7e94256a-f316-48c9-8f99-4a33767d398f&amp;fname=Nom_conseil_de_quartier_2_T600pix_s.png\"><!----></div><div _ngcontent-ayl-c13=\"\" class=\"column is-8 title-item\"><!----><a _ngcontent-ayl-c13=\"\" class=\"link-without-decoration\" href=\"/jeux-de-donnees/noms-conseil-quartier-commune-lyon/info\"><span _ngcontent-ayl-c13=\"\" class=\"h3\">Noms de Conseil de quartier de la commune de Lyon</span><!----></a><p _ngcontent-ayl-c13=\"\" class=\"providers\">Ville de Lyon</p></div></div><div _ngcontent-ayl-c13=\"\" class=\"columns is-marginless\"><div _ngcontent-ayl-c13=\"\" class=\"column is-8 is-offset-1 description\"><p _ngcontent-ayl-c13=\"\">Nom des Conseils de Quartier de la commune de Lyon</p></div></div></app-result-dataset><hr _ngcontent-ayl-c7=\"\"></div><!----><!----><!----><!----><div _ngcontent-ayl-c7=\"\" class=\"result-dataset\"><app-result-dataset _ngcontent-ayl-c7=\"\" _nghost-ayl-c13=\"\"><!----><!----><div _ngcontent-ayl-c13=\"\" class=\"columns is-marginless\"><div _ngcontent-ayl-c13=\"\" class=\"column is-1 is-paddingless image-item is-hidden-mobile\"><!----><!----><img _ngcontent-ayl-c13=\"\" alt=\"\" aria-hidden=\"true\" src=\"https://download.data.grandlyon.com/catalogue/srv/fre/resources.get?uuid=d2ee3cc6-ae9e-41f0-9b4e-6b587fc23f36&amp;fname=Bureau_centralisateur_2_T600pix_s.png\"><!----></div><div _ngcontent-ayl-c13=\"\" class=\"column is-8 title-item\"><!----><a _ngcontent-ayl-c13=\"\" class=\"link-without-decoration\" href=\"/jeux-de-donnees/bureau-centralisateur-commune-lyon/info\"><span _ngcontent-ayl-c13=\"\" class=\"h3\">Bureau centralisateur de la commune de Lyon</span><!----></a><p _ngcontent-ayl-c13=\"\" class=\"providers\">Ville de Lyon</p></div></div><div _ngcontent-ayl-c13=\"\" class=\"columns is-marginless\"><div _ngcontent-ayl-c13=\"\" class=\"column is-8 is-offset-1 description\"><p _ngcontent-ayl-c13=\"\">Le bureau centralisateur, situé dans chaque mairie d'arrondissement, a en charge la collecte des résultats électoraux des différents bureaux de l'arrondissement.\n",
    "Les données sont applicables au 1er mars 2018 jusqu’au 28 février 2019.</p></div></div></app-result-dataset><hr _ngcontent-ayl-c7=\"\"></div><!----><!----></div><div _ngcontent-ayl-c7=\"\" class=\"pagination-bottom\"><!----><app-paginator _ngcontent-ayl-c7=\"\" _nghost-ayl-c11=\"\"><div _ngcontent-ayl-c11=\"\" class=\"columns\"><div _ngcontent-ayl-c11=\"\" class=\"column\"><!----><div _ngcontent-ayl-c11=\"\" aria-label=\"pagination\" class=\"pagination-dgl is-centered is-small\" role=\"navigation\"><!----><button _ngcontent-ayl-c11=\"\" aria-label=\"Page précédente\" class=\"button previous\"><svg _ngcontent-ayl-c11=\"\" viewBox=\"0 0 15 9\" xmlns=\"http://www.w3.org/2000/svg\"><path _ngcontent-ayl-c11=\"\" class=\"brandcolor\" d=\"M7.5 7.5c-.1 0-.3-.1-.4-.1l-6-6C1 1.1 1 .8 1.1.6s.5-.2.7 0l5.6 5.6L13 .6c.2-.2.5-.2.7 0s.2.5 0 .7l-6 6c.1.1-.1.2-.2.2z\"></path><path _ngcontent-ayl-c11=\"\" class=\"brandcolor\" d=\"M7.5 7.5c-.1 0-.3-.1-.4-.1l-6-6C1 1.1 1 .8 1.1.6s.5-.2.7 0l5.6 5.6L13 .6c.2-.2.5-.2.7 0s.2.5 0 .7l-6 6c.1.1-.1.2-.2.2z\"></path></svg></button><!----><ul _ngcontent-ayl-c11=\"\"><!----><!----><li _ngcontent-ayl-c11=\"\"><!----><a _ngcontent-ayl-c11=\"\" class=\"button\" aria-label=\"1\" href=\"/jeux-de-donnees?page=1\">1</a><!----></li><!----><li _ngcontent-ayl-c11=\"\"><!----><a _ngcontent-ayl-c11=\"\" class=\"button\" aria-label=\"2\" href=\"/jeux-de-donnees?page=2\">2</a><!----></li><!----><li _ngcontent-ayl-c11=\"\"><!----><a _ngcontent-ayl-c11=\"\" class=\"button is-current\" aria-label=\"3\" href=\"/jeux-de-donnees?page=3\" aria-current=\"page\">3</a><!----></li><!----><li _ngcontent-ayl-c11=\"\"><!----><a _ngcontent-ayl-c11=\"\" class=\"button\" aria-label=\"4\" href=\"/jeux-de-donnees?page=4\">4</a><!----></li></ul><!----><button _ngcontent-ayl-c11=\"\" aria-label=\"Page suivante\" class=\"button next\"><svg _ngcontent-ayl-c11=\"\" viewBox=\"0 0 15 9\" xmlns=\"http://www.w3.org/2000/svg\"><path _ngcontent-ayl-c11=\"\" class=\"brandcolor\" d=\"M7.5 7.5c-.1 0-.3-.1-.4-.1l-6-6C1 1.1 1 .8 1.1.6s.5-.2.7 0l5.6 5.6L13 .6c.2-.2.5-.2.7 0s.2.5 0 .7l-6 6c.1.1-.1.2-.2.2z\"></path><path _ngcontent-ayl-c11=\"\" class=\"brandcolor\" d=\"M7.5 7.5c-.1 0-.3-.1-.4-.1l-6-6C1 1.1 1 .8 1.1.6s.5-.2.7 0l5.6 5.6L13 .6c.2-.2.5-.2.7 0s.2.5 0 .7l-6 6c.1.1-.1.2-.2.2z\"></path></svg></button><!----></div></div></div></app-paginator></div></div>\"\"\")"
   ]
  },
  {
   "cell_type": "code",
   "execution_count": 115,
   "id": "8e654fdc-062d-4581-9f5f-f839c8427c5d",
   "metadata": {},
   "outputs": [],
   "source": [
    "soup4 = BeautifulSoup(\"\"\"<div _ngcontent-ayl-c7=\"\" class=\"column is-9-desktop is-12-touch results-column\"><h1 _ngcontent-ayl-c7=\"\" class=\"sr-only\">Résultat(s) de recherche</h1><div _ngcontent-ayl-c7=\"\" class=\"tab-results\"><app-results-tab-scope _ngcontent-ayl-c7=\"\" _nghost-ayl-c10=\"\"><div _ngcontent-ayl-c10=\"\" class=\"tabs-container\"><button _ngcontent-ayl-c10=\"\" class=\"is-selected\" aria-current=\"page\"><span _ngcontent-ayl-c10=\"\" class=\"tab-label\">Tous</span><span _ngcontent-ayl-c10=\"\" class=\"tab-count\">17</span></button><button _ngcontent-ayl-c10=\"\"><span _ngcontent-ayl-c10=\"\" class=\"tab-label\">Données</span><span _ngcontent-ayl-c10=\"\" class=\"tab-count\">17</span></button><button _ngcontent-ayl-c10=\"\"><span _ngcontent-ayl-c10=\"\" class=\"tab-label\">Services</span><span _ngcontent-ayl-c10=\"\" class=\"tab-count\">0</span></button></div></app-results-tab-scope></div><!----><div _ngcontent-ayl-c7=\"\" class=\"columns is-multiline is-vcentered is-marginless header-results\"><!----><div _ngcontent-ayl-c7=\"\" class=\"column is-6-mobile\"><span _ngcontent-ayl-c7=\"\">16 - 17&nbsp;</span><span _ngcontent-ayl-c7=\"\"> sur 17 résultats</span></div><div _ngcontent-ayl-c7=\"\" class=\"column is-12-mobile pagination\"><!----><app-paginator _ngcontent-ayl-c7=\"\" _nghost-ayl-c11=\"\"><div _ngcontent-ayl-c11=\"\" class=\"columns\"><div _ngcontent-ayl-c11=\"\" class=\"column\"><!----><div _ngcontent-ayl-c11=\"\" aria-label=\"pagination\" class=\"pagination-dgl is-centered is-small\" role=\"navigation\"><!----><button _ngcontent-ayl-c11=\"\" aria-label=\"Page précédente\" class=\"button previous\"><svg _ngcontent-ayl-c11=\"\" viewBox=\"0 0 15 9\" xmlns=\"http://www.w3.org/2000/svg\"><path _ngcontent-ayl-c11=\"\" class=\"brandcolor\" d=\"M7.5 7.5c-.1 0-.3-.1-.4-.1l-6-6C1 1.1 1 .8 1.1.6s.5-.2.7 0l5.6 5.6L13 .6c.2-.2.5-.2.7 0s.2.5 0 .7l-6 6c.1.1-.1.2-.2.2z\"></path><path _ngcontent-ayl-c11=\"\" class=\"brandcolor\" d=\"M7.5 7.5c-.1 0-.3-.1-.4-.1l-6-6C1 1.1 1 .8 1.1.6s.5-.2.7 0l5.6 5.6L13 .6c.2-.2.5-.2.7 0s.2.5 0 .7l-6 6c.1.1-.1.2-.2.2z\"></path></svg></button><!----><ul _ngcontent-ayl-c11=\"\"><!----><!----><li _ngcontent-ayl-c11=\"\"><!----><a _ngcontent-ayl-c11=\"\" class=\"button\" aria-label=\"1\" href=\"/jeux-de-donnees?page=1\">1</a><!----></li><!----><li _ngcontent-ayl-c11=\"\"><!----><a _ngcontent-ayl-c11=\"\" class=\"button\" aria-label=\"2\" href=\"/jeux-de-donnees?page=2\">2</a><!----></li><!----><li _ngcontent-ayl-c11=\"\"><!----><a _ngcontent-ayl-c11=\"\" class=\"button\" aria-label=\"3\" href=\"/jeux-de-donnees?page=3\">3</a><!----></li><!----><li _ngcontent-ayl-c11=\"\"><!----><a _ngcontent-ayl-c11=\"\" class=\"button is-current\" aria-label=\"4\" href=\"/jeux-de-donnees?page=4\" aria-current=\"page\">4</a><!----></li></ul><!----><button _ngcontent-ayl-c11=\"\" aria-label=\"Page suivante\" class=\"button\" disabled=\"\"><svg _ngcontent-ayl-c11=\"\" viewBox=\"0 0 15 9\" xmlns=\"http://www.w3.org/2000/svg\"><path _ngcontent-ayl-c11=\"\" class=\"brandcolor\" d=\"M7.5 7.5c-.1 0-.3-.1-.4-.1l-6-6C1 1.1 1 .8 1.1.6s.5-.2.7 0l5.6 5.6L13 .6c.2-.2.5-.2.7 0s.2.5 0 .7l-6 6c.1.1-.1.2-.2.2z\"></path><path _ngcontent-ayl-c11=\"\" class=\"brandcolor\" d=\"M7.5 7.5c-.1 0-.3-.1-.4-.1l-6-6C1 1.1 1 .8 1.1.6s.5-.2.7 0l5.6 5.6L13 .6c.2-.2.5-.2.7 0s.2.5 0 .7l-6 6c.1.1-.1.2-.2.2z\"></path></svg></button><!----></div></div></div></app-paginator></div><div _ngcontent-ayl-c7=\"\" class=\"column is-6-mobile sort-dropdown\"><app-sort _ngcontent-ayl-c7=\"\" _nghost-ayl-c12=\"\"><div _ngcontent-ayl-c12=\"\" class=\"dropdown is-fullwidth\"><div _ngcontent-ayl-c12=\"\" class=\"dropdown-trigger\"><button _ngcontent-ayl-c12=\"\" aria-controls=\"dropdown-menu\" aria-haspopup=\"true\" class=\"button\"><span _ngcontent-ayl-c12=\"\" class=\"title-dropdown\"><span _ngcontent-ayl-c12=\"\">Classer par</span><span _ngcontent-ayl-c12=\"\" class=\"selected-option\">Date (décroissante)</span></span><span _ngcontent-ayl-c12=\"\" class=\"icon is-small\"><svg _ngcontent-ayl-c12=\"\" viewBox=\"0 0 15 9\" xmlns=\"http://www.w3.org/2000/svg\"><path _ngcontent-ayl-c12=\"\" class=\"brandcolor\" d=\"M7.5 7.5c-.1 0-.3-.1-.4-.1l-6-6C1 1.1 1 .8 1.1.6s.5-.2.7 0l5.6 5.6L13 .6c.2-.2.5-.2.7 0s.2.5 0 .7l-6 6c.1.1-.1.2-.2.2z\"></path><path _ngcontent-ayl-c12=\"\" class=\"brandcolor\" d=\"M7.5 7.5c-.1 0-.3-.1-.4-.1l-6-6C1 1.1 1 .8 1.1.6s.5-.2.7 0l5.6 5.6L13 .6c.2-.2.5-.2.7 0s.2.5 0 .7l-6 6c.1.1-.1.2-.2.2z\"></path></svg></span></button></div><div _ngcontent-ayl-c12=\"\" class=\"dropdown-menu\" id=\"dropdown-menu\" role=\"menu\"><div _ngcontent-ayl-c12=\"\" class=\"dropdown-content\"><!----><a _ngcontent-ayl-c12=\"\" class=\"dropdown-item\">Pertinence</a><a _ngcontent-ayl-c12=\"\" class=\"dropdown-item\">Date (croissante)</a><a _ngcontent-ayl-c12=\"\" class=\"dropdown-item\">Date (décroissante)</a><a _ngcontent-ayl-c12=\"\" class=\"dropdown-item\">Titre (A → Z)</a><a _ngcontent-ayl-c12=\"\" class=\"dropdown-item\">Titre (Z → A)</a></div></div></div></app-sort></div></div><!----><!----><div _ngcontent-ayl-c7=\"\" class=\"datasets\"><!----><!----><!----><div _ngcontent-ayl-c7=\"\" class=\"result-dataset\"><app-result-dataset _ngcontent-ayl-c7=\"\" _nghost-ayl-c13=\"\"><!----><!----><div _ngcontent-ayl-c13=\"\" class=\"columns is-marginless\"><div _ngcontent-ayl-c13=\"\" class=\"column is-1 is-paddingless image-item is-hidden-mobile\"><!----><!----><img _ngcontent-ayl-c13=\"\" alt=\"\" aria-hidden=\"true\" src=\"https://download.data.grandlyon.com/catalogue/srv/fre//resources.get?uuid=7eebc38e-461a-4346-a88a-4a518572ca58&amp;fname=MairieVdL_s.png\"><!----></div><div _ngcontent-ayl-c13=\"\" class=\"column is-8 title-item\"><!----><a _ngcontent-ayl-c13=\"\" class=\"link-without-decoration\" href=\"/jeux-de-donnees/mairies-commune-lyon/info\"><span _ngcontent-ayl-c13=\"\" class=\"h3\">Mairies de la commune de Lyon</span><!----></a><p _ngcontent-ayl-c13=\"\" class=\"providers\">Ville de Lyon</p></div></div><div _ngcontent-ayl-c13=\"\" class=\"columns is-marginless\"><div _ngcontent-ayl-c13=\"\" class=\"column is-8 is-offset-1 description\"><p _ngcontent-ayl-c13=\"\">Mairie centrale, mairies d'arrondissement et mairies annexes.</p></div></div></app-result-dataset><hr _ngcontent-ayl-c7=\"\"></div><!----><!----><!----><!----><div _ngcontent-ayl-c7=\"\" class=\"result-dataset\"><app-result-dataset _ngcontent-ayl-c7=\"\" _nghost-ayl-c13=\"\"><!----><!----><div _ngcontent-ayl-c13=\"\" class=\"columns is-marginless\"><div _ngcontent-ayl-c13=\"\" class=\"column is-1 is-paddingless image-item is-hidden-mobile\"><!----><!----><img _ngcontent-ayl-c13=\"\" alt=\"\" aria-hidden=\"true\" src=\"https://download.data.grandlyon.com/catalogue/srv/fre/resources.get?uuid=1d94d00a-8621-417b-aad9-313db43585f2&amp;fname=Circonscription_2_T600_s.png\"><!----></div><div _ngcontent-ayl-c13=\"\" class=\"column is-8 title-item\"><!----><a _ngcontent-ayl-c13=\"\" class=\"link-without-decoration\" href=\"/jeux-de-donnees/circonscription-commune-lyon/info\"><span _ngcontent-ayl-c13=\"\" class=\"h3\">Circonscription de la commune de Lyon</span><!----></a><p _ngcontent-ayl-c13=\"\" class=\"providers\">Ville de Lyon</p></div></div><div _ngcontent-ayl-c13=\"\" class=\"columns is-marginless\"><div _ngcontent-ayl-c13=\"\" class=\"column is-8 is-offset-1 description\"><p _ngcontent-ayl-c13=\"\">La circonscription est le territoire sur lequel est élu le député qui siège ensuite à l'Assemblée Nationale.\n",
    "Les données sont applicables au 1er mars 2018 jusqu’au 28 février 2019.</p></div></div></app-result-dataset><hr _ngcontent-ayl-c7=\"\"></div><!----><!----></div><div _ngcontent-ayl-c7=\"\" class=\"pagination-bottom\"><!----><app-paginator _ngcontent-ayl-c7=\"\" _nghost-ayl-c11=\"\"><div _ngcontent-ayl-c11=\"\" class=\"columns\"><div _ngcontent-ayl-c11=\"\" class=\"column\"><!----><div _ngcontent-ayl-c11=\"\" aria-label=\"pagination\" class=\"pagination-dgl is-centered is-small\" role=\"navigation\"><!----><button _ngcontent-ayl-c11=\"\" aria-label=\"Page précédente\" class=\"button previous\"><svg _ngcontent-ayl-c11=\"\" viewBox=\"0 0 15 9\" xmlns=\"http://www.w3.org/2000/svg\"><path _ngcontent-ayl-c11=\"\" class=\"brandcolor\" d=\"M7.5 7.5c-.1 0-.3-.1-.4-.1l-6-6C1 1.1 1 .8 1.1.6s.5-.2.7 0l5.6 5.6L13 .6c.2-.2.5-.2.7 0s.2.5 0 .7l-6 6c.1.1-.1.2-.2.2z\"></path><path _ngcontent-ayl-c11=\"\" class=\"brandcolor\" d=\"M7.5 7.5c-.1 0-.3-.1-.4-.1l-6-6C1 1.1 1 .8 1.1.6s.5-.2.7 0l5.6 5.6L13 .6c.2-.2.5-.2.7 0s.2.5 0 .7l-6 6c.1.1-.1.2-.2.2z\"></path></svg></button><!----><ul _ngcontent-ayl-c11=\"\"><!----><!----><li _ngcontent-ayl-c11=\"\"><!----><a _ngcontent-ayl-c11=\"\" class=\"button\" aria-label=\"1\" href=\"/jeux-de-donnees?page=1\">1</a><!----></li><!----><li _ngcontent-ayl-c11=\"\"><!----><a _ngcontent-ayl-c11=\"\" class=\"button\" aria-label=\"2\" href=\"/jeux-de-donnees?page=2\">2</a><!----></li><!----><li _ngcontent-ayl-c11=\"\"><!----><a _ngcontent-ayl-c11=\"\" class=\"button\" aria-label=\"3\" href=\"/jeux-de-donnees?page=3\">3</a><!----></li><!----><li _ngcontent-ayl-c11=\"\"><!----><a _ngcontent-ayl-c11=\"\" class=\"button is-current\" aria-label=\"4\" href=\"/jeux-de-donnees?page=4\" aria-current=\"page\">4</a><!----></li></ul><!----><button _ngcontent-ayl-c11=\"\" aria-label=\"Page suivante\" class=\"button\" disabled=\"\"><svg _ngcontent-ayl-c11=\"\" viewBox=\"0 0 15 9\" xmlns=\"http://www.w3.org/2000/svg\"><path _ngcontent-ayl-c11=\"\" class=\"brandcolor\" d=\"M7.5 7.5c-.1 0-.3-.1-.4-.1l-6-6C1 1.1 1 .8 1.1.6s.5-.2.7 0l5.6 5.6L13 .6c.2-.2.5-.2.7 0s.2.5 0 .7l-6 6c.1.1-.1.2-.2.2z\"></path><path _ngcontent-ayl-c11=\"\" class=\"brandcolor\" d=\"M7.5 7.5c-.1 0-.3-.1-.4-.1l-6-6C1 1.1 1 .8 1.1.6s.5-.2.7 0l5.6 5.6L13 .6c.2-.2.5-.2.7 0s.2.5 0 .7l-6 6c.1.1-.1.2-.2.2z\"></path></svg></button><!----></div></div></div></app-paginator></div></div>\"\"\")"
   ]
  },
  {
   "cell_type": "code",
   "execution_count": 116,
   "id": "d0817efb-3ff1-4498-8b82-8c048e1fcce8",
   "metadata": {},
   "outputs": [],
   "source": [
    "base_url = \"https://data.grandlyon.com\"\n",
    "lyon = []\n",
    "soups = [soup1, soup2, soup3, soup4]\n",
    "for soup in soups:\n",
    "    for link in soup.find_all('a', class_=\"link-without-decoration\"):\n",
    "        uri = link.get('href')\n",
    "        url = f\"{base_url}{uri}\"\n",
    "        name = link.text\n",
    "        d = {'nom': name,\n",
    "            'url': url,\n",
    "            'commune': \"Lyon\"}\n",
    "        lyon.append(d)"
   ]
  },
  {
   "cell_type": "code",
   "execution_count": 117,
   "id": "e65086f6-1369-40b2-9d1d-c2fee52f1021",
   "metadata": {},
   "outputs": [
    {
     "data": {
      "text/plain": [
       "[{'nom': 'Subventions de la Ville de Lyon',\n",
       "  'url': 'https://data.grandlyon.com/jeux-de-donnees/subventions-ville-lyon/info',\n",
       "  'commune': 'Lyon'},\n",
       " {'nom': 'Subventions en nature de la Ville de Lyon',\n",
       "  'url': 'https://data.grandlyon.com/jeux-de-donnees/subventions-nature-ville-lyon/info',\n",
       "  'commune': 'Lyon'},\n",
       " {'nom': 'Toilettes publiques de la commune de Lyon  \\xa0-\\xa0 v1',\n",
       "  'url': 'https://data.grandlyon.com/jeux-de-donnees/toilettes-publiques-commune-lyon-v1/info',\n",
       "  'commune': 'Lyon'},\n",
       " {'nom': \"Panneaux d'affichage libre de la commune de Lyon  \\xa0-\\xa0 v1\",\n",
       "  'url': 'https://data.grandlyon.com/jeux-de-donnees/panneaux-affichage-libre-commune-lyon-v1/info',\n",
       "  'commune': 'Lyon'},\n",
       " {'nom': 'Parcs et Jardins de la commune de Lyon  \\xa0-\\xa0 v1',\n",
       "  'url': 'https://data.grandlyon.com/jeux-de-donnees/parcs-jardins-commune-lyon-v1/info',\n",
       "  'commune': 'Lyon'},\n",
       " {'nom': 'Dessertes de livraison de la commune de Lyon',\n",
       "  'url': 'https://data.grandlyon.com/jeux-de-donnees/dessertes-livraison-commune-lyon/info',\n",
       "  'commune': 'Lyon'},\n",
       " {'nom': 'Stationnement réglementé pour les Personnes à Mobilité Réduite dans la Commune de Lyon',\n",
       "  'url': 'https://data.grandlyon.com/jeux-de-donnees/stationnement-reglemente-personnes-a-mobilite-reduite-commune-lyon/info',\n",
       "  'commune': 'Lyon'},\n",
       " {'nom': 'Emplacements motos de la commune de Lyon',\n",
       "  'url': 'https://data.grandlyon.com/jeux-de-donnees/emplacements-motos-commune-lyon/info',\n",
       "  'commune': 'Lyon'},\n",
       " {'nom': 'Contours de bureaux de vote de la commune de Lyon',\n",
       "  'url': 'https://data.grandlyon.com/jeux-de-donnees/contours-bureaux-vote-commune-lyon/info',\n",
       "  'commune': 'Lyon'},\n",
       " {'nom': 'Bureaux de vote de la commune de Lyon',\n",
       "  'url': 'https://data.grandlyon.com/jeux-de-donnees/bureaux-vote-commune-lyon/info',\n",
       "  'commune': 'Lyon'},\n",
       " {'nom': 'Lieux de vote de la commune de Lyon',\n",
       "  'url': 'https://data.grandlyon.com/jeux-de-donnees/lieux-vote-commune-lyon/info',\n",
       "  'commune': 'Lyon'},\n",
       " {'nom': 'Cantons de la commune de Lyon',\n",
       "  'url': 'https://data.grandlyon.com/jeux-de-donnees/cantons-commune-lyon/info',\n",
       "  'commune': 'Lyon'},\n",
       " {'nom': 'Vie citoyenne de la commune de Lyon',\n",
       "  'url': 'https://data.grandlyon.com/jeux-de-donnees/vie-citoyenne-commune-lyon/info',\n",
       "  'commune': 'Lyon'},\n",
       " {'nom': 'Noms de Conseil de quartier de la commune de Lyon',\n",
       "  'url': 'https://data.grandlyon.com/jeux-de-donnees/noms-conseil-quartier-commune-lyon/info',\n",
       "  'commune': 'Lyon'},\n",
       " {'nom': 'Bureau centralisateur de la commune de Lyon',\n",
       "  'url': 'https://data.grandlyon.com/jeux-de-donnees/bureau-centralisateur-commune-lyon/info',\n",
       "  'commune': 'Lyon'},\n",
       " {'nom': 'Mairies de la commune de Lyon',\n",
       "  'url': 'https://data.grandlyon.com/jeux-de-donnees/mairies-commune-lyon/info',\n",
       "  'commune': 'Lyon'},\n",
       " {'nom': 'Circonscription de la commune de Lyon',\n",
       "  'url': 'https://data.grandlyon.com/jeux-de-donnees/circonscription-commune-lyon/info',\n",
       "  'commune': 'Lyon'}]"
      ]
     },
     "execution_count": 117,
     "metadata": {},
     "output_type": "execute_result"
    }
   ],
   "source": [
    "lyon"
   ]
  },
  {
   "cell_type": "code",
   "execution_count": 118,
   "id": "ab0b4d4d-322f-4c24-a343-39cb2d12defe",
   "metadata": {},
   "outputs": [
    {
     "data": {
      "text/plain": [
       "17"
      ]
     },
     "execution_count": 118,
     "metadata": {},
     "output_type": "execute_result"
    }
   ],
   "source": [
    "len(lyon)"
   ]
  },
  {
   "cell_type": "code",
   "execution_count": 119,
   "id": "b79e42b5-b0dd-4931-aff6-285e127fdd56",
   "metadata": {},
   "outputs": [],
   "source": [
    "lyon = pd.DataFrame(lyon)"
   ]
  },
  {
   "cell_type": "code",
   "execution_count": 120,
   "id": "b52ae95b-a1e0-40dc-8337-c9cae341ee45",
   "metadata": {},
   "outputs": [
    {
     "data": {
      "text/html": [
       "<div>\n",
       "<style scoped>\n",
       "    .dataframe tbody tr th:only-of-type {\n",
       "        vertical-align: middle;\n",
       "    }\n",
       "\n",
       "    .dataframe tbody tr th {\n",
       "        vertical-align: top;\n",
       "    }\n",
       "\n",
       "    .dataframe thead th {\n",
       "        text-align: right;\n",
       "    }\n",
       "</style>\n",
       "<table border=\"1\" class=\"dataframe\">\n",
       "  <thead>\n",
       "    <tr style=\"text-align: right;\">\n",
       "      <th></th>\n",
       "      <th>nom</th>\n",
       "      <th>url</th>\n",
       "      <th>commune</th>\n",
       "    </tr>\n",
       "  </thead>\n",
       "  <tbody>\n",
       "    <tr>\n",
       "      <th>0</th>\n",
       "      <td>Subventions de la Ville de Lyon</td>\n",
       "      <td>https://data.grandlyon.com/jeux-de-donnees/sub...</td>\n",
       "      <td>Lyon</td>\n",
       "    </tr>\n",
       "    <tr>\n",
       "      <th>1</th>\n",
       "      <td>Subventions en nature de la Ville de Lyon</td>\n",
       "      <td>https://data.grandlyon.com/jeux-de-donnees/sub...</td>\n",
       "      <td>Lyon</td>\n",
       "    </tr>\n",
       "    <tr>\n",
       "      <th>2</th>\n",
       "      <td>Toilettes publiques de la commune de Lyon   -  v1</td>\n",
       "      <td>https://data.grandlyon.com/jeux-de-donnees/toi...</td>\n",
       "      <td>Lyon</td>\n",
       "    </tr>\n",
       "    <tr>\n",
       "      <th>3</th>\n",
       "      <td>Panneaux d'affichage libre de la commune de Ly...</td>\n",
       "      <td>https://data.grandlyon.com/jeux-de-donnees/pan...</td>\n",
       "      <td>Lyon</td>\n",
       "    </tr>\n",
       "    <tr>\n",
       "      <th>4</th>\n",
       "      <td>Parcs et Jardins de la commune de Lyon   -  v1</td>\n",
       "      <td>https://data.grandlyon.com/jeux-de-donnees/par...</td>\n",
       "      <td>Lyon</td>\n",
       "    </tr>\n",
       "    <tr>\n",
       "      <th>5</th>\n",
       "      <td>Dessertes de livraison de la commune de Lyon</td>\n",
       "      <td>https://data.grandlyon.com/jeux-de-donnees/des...</td>\n",
       "      <td>Lyon</td>\n",
       "    </tr>\n",
       "    <tr>\n",
       "      <th>6</th>\n",
       "      <td>Stationnement réglementé pour les Personnes à ...</td>\n",
       "      <td>https://data.grandlyon.com/jeux-de-donnees/sta...</td>\n",
       "      <td>Lyon</td>\n",
       "    </tr>\n",
       "    <tr>\n",
       "      <th>7</th>\n",
       "      <td>Emplacements motos de la commune de Lyon</td>\n",
       "      <td>https://data.grandlyon.com/jeux-de-donnees/emp...</td>\n",
       "      <td>Lyon</td>\n",
       "    </tr>\n",
       "    <tr>\n",
       "      <th>8</th>\n",
       "      <td>Contours de bureaux de vote de la commune de Lyon</td>\n",
       "      <td>https://data.grandlyon.com/jeux-de-donnees/con...</td>\n",
       "      <td>Lyon</td>\n",
       "    </tr>\n",
       "    <tr>\n",
       "      <th>9</th>\n",
       "      <td>Bureaux de vote de la commune de Lyon</td>\n",
       "      <td>https://data.grandlyon.com/jeux-de-donnees/bur...</td>\n",
       "      <td>Lyon</td>\n",
       "    </tr>\n",
       "    <tr>\n",
       "      <th>10</th>\n",
       "      <td>Lieux de vote de la commune de Lyon</td>\n",
       "      <td>https://data.grandlyon.com/jeux-de-donnees/lie...</td>\n",
       "      <td>Lyon</td>\n",
       "    </tr>\n",
       "    <tr>\n",
       "      <th>11</th>\n",
       "      <td>Cantons de la commune de Lyon</td>\n",
       "      <td>https://data.grandlyon.com/jeux-de-donnees/can...</td>\n",
       "      <td>Lyon</td>\n",
       "    </tr>\n",
       "    <tr>\n",
       "      <th>12</th>\n",
       "      <td>Vie citoyenne de la commune de Lyon</td>\n",
       "      <td>https://data.grandlyon.com/jeux-de-donnees/vie...</td>\n",
       "      <td>Lyon</td>\n",
       "    </tr>\n",
       "    <tr>\n",
       "      <th>13</th>\n",
       "      <td>Noms de Conseil de quartier de la commune de Lyon</td>\n",
       "      <td>https://data.grandlyon.com/jeux-de-donnees/nom...</td>\n",
       "      <td>Lyon</td>\n",
       "    </tr>\n",
       "    <tr>\n",
       "      <th>14</th>\n",
       "      <td>Bureau centralisateur de la commune de Lyon</td>\n",
       "      <td>https://data.grandlyon.com/jeux-de-donnees/bur...</td>\n",
       "      <td>Lyon</td>\n",
       "    </tr>\n",
       "    <tr>\n",
       "      <th>15</th>\n",
       "      <td>Mairies de la commune de Lyon</td>\n",
       "      <td>https://data.grandlyon.com/jeux-de-donnees/mai...</td>\n",
       "      <td>Lyon</td>\n",
       "    </tr>\n",
       "    <tr>\n",
       "      <th>16</th>\n",
       "      <td>Circonscription de la commune de Lyon</td>\n",
       "      <td>https://data.grandlyon.com/jeux-de-donnees/cir...</td>\n",
       "      <td>Lyon</td>\n",
       "    </tr>\n",
       "  </tbody>\n",
       "</table>\n",
       "</div>"
      ],
      "text/plain": [
       "                                                  nom  \\\n",
       "0                     Subventions de la Ville de Lyon   \n",
       "1           Subventions en nature de la Ville de Lyon   \n",
       "2   Toilettes publiques de la commune de Lyon   -  v1   \n",
       "3   Panneaux d'affichage libre de la commune de Ly...   \n",
       "4      Parcs et Jardins de la commune de Lyon   -  v1   \n",
       "5        Dessertes de livraison de la commune de Lyon   \n",
       "6   Stationnement réglementé pour les Personnes à ...   \n",
       "7            Emplacements motos de la commune de Lyon   \n",
       "8   Contours de bureaux de vote de la commune de Lyon   \n",
       "9               Bureaux de vote de la commune de Lyon   \n",
       "10                Lieux de vote de la commune de Lyon   \n",
       "11                      Cantons de la commune de Lyon   \n",
       "12                Vie citoyenne de la commune de Lyon   \n",
       "13  Noms de Conseil de quartier de la commune de Lyon   \n",
       "14        Bureau centralisateur de la commune de Lyon   \n",
       "15                      Mairies de la commune de Lyon   \n",
       "16              Circonscription de la commune de Lyon   \n",
       "\n",
       "                                                  url commune  \n",
       "0   https://data.grandlyon.com/jeux-de-donnees/sub...    Lyon  \n",
       "1   https://data.grandlyon.com/jeux-de-donnees/sub...    Lyon  \n",
       "2   https://data.grandlyon.com/jeux-de-donnees/toi...    Lyon  \n",
       "3   https://data.grandlyon.com/jeux-de-donnees/pan...    Lyon  \n",
       "4   https://data.grandlyon.com/jeux-de-donnees/par...    Lyon  \n",
       "5   https://data.grandlyon.com/jeux-de-donnees/des...    Lyon  \n",
       "6   https://data.grandlyon.com/jeux-de-donnees/sta...    Lyon  \n",
       "7   https://data.grandlyon.com/jeux-de-donnees/emp...    Lyon  \n",
       "8   https://data.grandlyon.com/jeux-de-donnees/con...    Lyon  \n",
       "9   https://data.grandlyon.com/jeux-de-donnees/bur...    Lyon  \n",
       "10  https://data.grandlyon.com/jeux-de-donnees/lie...    Lyon  \n",
       "11  https://data.grandlyon.com/jeux-de-donnees/can...    Lyon  \n",
       "12  https://data.grandlyon.com/jeux-de-donnees/vie...    Lyon  \n",
       "13  https://data.grandlyon.com/jeux-de-donnees/nom...    Lyon  \n",
       "14  https://data.grandlyon.com/jeux-de-donnees/bur...    Lyon  \n",
       "15  https://data.grandlyon.com/jeux-de-donnees/mai...    Lyon  \n",
       "16  https://data.grandlyon.com/jeux-de-donnees/cir...    Lyon  "
      ]
     },
     "execution_count": 120,
     "metadata": {},
     "output_type": "execute_result"
    }
   ],
   "source": [
    "lyon"
   ]
  },
  {
   "cell_type": "code",
   "execution_count": null,
   "id": "15df9bb9-869a-457e-be86-2bcf641c496d",
   "metadata": {},
   "outputs": [],
   "source": []
  }
 ],
 "metadata": {
  "kernelspec": {
   "display_name": "Python 3 (ipykernel)",
   "language": "python",
   "name": "python3"
  },
  "language_info": {
   "codemirror_mode": {
    "name": "ipython",
    "version": 3
   },
   "file_extension": ".py",
   "mimetype": "text/x-python",
   "name": "python",
   "nbconvert_exporter": "python",
   "pygments_lexer": "ipython3",
   "version": "3.11.0b1"
  }
 },
 "nbformat": 4,
 "nbformat_minor": 5
}
